{
 "cells": [
  {
   "cell_type": "code",
   "execution_count": 1,
   "id": "97ef0119",
   "metadata": {},
   "outputs": [
    {
     "name": "stderr",
     "output_type": "stream",
     "text": [
      "C:\\Users\\10698046\\AppData\\Local\\Temp\\ipykernel_19180\\1492400551.py:1: DeprecationWarning: \n",
      "Pyarrow will become a required dependency of pandas in the next major release of pandas (pandas 3.0),\n",
      "(to allow more performant data types, such as the Arrow string type, and better interoperability with other libraries)\n",
      "but was not found to be installed on your system.\n",
      "If this would cause problems for you,\n",
      "please provide us feedback at https://github.com/pandas-dev/pandas/issues/54466\n",
      "        \n",
      "  import pandas as pd\n"
     ]
    }
   ],
   "source": [
    "import pandas as pd\n",
    "import matplotlib.pyplot as plt"
   ]
  },
  {
   "cell_type": "code",
   "execution_count": 4,
   "id": "7637278a",
   "metadata": {},
   "outputs": [
    {
     "name": "stdout",
     "output_type": "stream",
     "text": [
      "                     Occupation        Born        Died  Age\n",
      "Rosaline Franklin       Chemist  1920-07-25  1958-04-16   37\n",
      "William Gosset     Statistician  1876-06-13  1937-10-16   61\n"
     ]
    }
   ],
   "source": [
    "scientists = pd.DataFrame(\n",
    " data ={\n",
    "    \"Occupation\": [\"Chemist\", \"Statistician\"],\n",
    "    \"Born\": [\"1920-07-25\", \"1876-06-13\"],\n",
    "    \"Died\": [\"1958-04-16\", \"1937-10-16\"],\n",
    "    \"Age\": [37, 61],\n",
    " },\n",
    " index =[\"Rosaline Franklin\", \"William Gosset\"],\n",
    " columns =[\"Occupation\", \"Born\", \"Died\", \"Age\"],\n",
    ")\n",
    "print(scientists)\n"
   ]
  },
  {
   "cell_type": "code",
   "execution_count": 8,
   "id": "687540e1",
   "metadata": {},
   "outputs": [
    {
     "name": "stdout",
     "output_type": "stream",
     "text": [
      "                Name    Occupation        Born        Died  Age\n",
      "0  Rosaline Franklin       Chemist  1920-07-25  1958-04-16   37\n",
      "1     William Gosset  Statistician  1876-06-13  1937-10-16   61\n"
     ]
    }
   ],
   "source": [
    "scientists = pd.DataFrame(\n",
    " {\n",
    " \"Name\": [\"Rosaline Franklin\", \"William Gosset\"],\n",
    " \"Occupation\": [\"Chemist\", \"Statistician\"],\n",
    " \"Born\": [\"1920-07-25\", \"1876-06-13\"],\n",
    " \"Died\": [\"1958-04-16\", \"1937-10-16\"],\n",
    " \"Age\": [37, 61],\n",
    " }\n",
    ")\n",
    "print(scientists)"
   ]
  },
  {
   "cell_type": "code",
   "execution_count": 9,
   "id": "97cf2162",
   "metadata": {},
   "outputs": [],
   "source": [
    "df = pd.read_csv(\"Youtube_Data.csv\")"
   ]
  },
  {
   "cell_type": "code",
   "execution_count": 19,
   "id": "4f0fa179",
   "metadata": {},
   "outputs": [
    {
     "data": {
      "text/plain": [
       "['SFDC_OPPORTUNITY_CONTENT_SUBMISSION_METRICS_ID',\n",
       " 'SUBMISSION_LIMIT',\n",
       " 'COUNT_VIEWS',\n",
       " 'COUNT_LIKES',\n",
       " 'COUNT_DISLIKES',\n",
       " 'COUNT_COMMENTS',\n",
       " 'COUNT_SHARES',\n",
       " 'ESTIMATED_MINUTES_WATCHED',\n",
       " 'AVERAGE_VIEW_DURATION',\n",
       " 'AVERAGE_VIEW_PERCENTAGE',\n",
       " 'SUBSCRIBERS_GAINED',\n",
       " 'PEAK_CONCURRENT_VIEW',\n",
       " 'ENGAGEMENT',\n",
       " 'TOTAL_REACH',\n",
       " 'CONTENT_RATING',\n",
       " 'APPLICANT_STATUS',\n",
       " 'APPLICANT_APPROVED_BY',\n",
       " 'APPLICANT_APPROVED_DTTM_GMT',\n",
       " 'IS_PHYSICAL_CONTENT']"
      ]
     },
     "execution_count": 19,
     "metadata": {},
     "output_type": "execute_result"
    }
   ],
   "source": [
    "list(df.select_dtypes('number').columns)"
   ]
  },
  {
   "cell_type": "code",
   "execution_count": 23,
   "id": "fe394e58",
   "metadata": {},
   "outputs": [
    {
     "name": "stdout",
     "output_type": "stream",
     "text": [
      "21370 21370\n"
     ]
    }
   ],
   "source": [
    "s1 = df['COUNT_VIEWS']\n",
    "s2 = df['COUNT_LIKES']\n",
    "print(len(s1),len(s2))"
   ]
  },
  {
   "cell_type": "code",
   "execution_count": 27,
   "id": "2a44c9f5",
   "metadata": {},
   "outputs": [
    {
     "name": "stdout",
     "output_type": "stream",
     "text": [
      "0.09113396114453835\n"
     ]
    }
   ],
   "source": [
    "s1._append(s2)\n",
    "print(s1.corr(s2))"
   ]
  },
  {
   "cell_type": "code",
   "execution_count": 30,
   "id": "8db0dab7",
   "metadata": {},
   "outputs": [
    {
     "name": "stdout",
     "output_type": "stream",
     "text": [
      "885465124.6160749\n"
     ]
    }
   ],
   "source": [
    "print(s1.cov(s2))"
   ]
  },
  {
   "cell_type": "code",
   "execution_count": 33,
   "id": "a3afe0ef",
   "metadata": {},
   "outputs": [
    {
     "name": "stdout",
     "output_type": "stream",
     "text": [
      "21370 21370\n"
     ]
    }
   ],
   "source": [
    "print(len(df.drop_duplicates()),len(df))"
   ]
  },
  {
   "cell_type": "code",
   "execution_count": 34,
   "id": "08c3cacd",
   "metadata": {},
   "outputs": [],
   "source": [
    "# here are 3 main parts to a Pandas DataFrame object the .index, .columns,\n",
    "# and .values. These refer to the row name, column names, and data values,\n",
    "# respectively"
   ]
  },
  {
   "cell_type": "code",
   "execution_count": 37,
   "id": "5a2fabd1",
   "metadata": {},
   "outputs": [
    {
     "name": "stdout",
     "output_type": "stream",
     "text": [
      "RangeIndex(start=0, stop=21370, step=1)\n",
      "Index(['SFDC_OPPORTUNITY_CONTENT_SUBMISSION_METRICS_ID', 'SRC_METRIC_ID',\n",
      "       'SRC_OPPORTUNITY_ID', 'SRC_CREATOR_ID', 'SRC_PARTICIPANT_ID',\n",
      "       'SRC_OPPORTUNITY_MANAGER_ID', 'SRC_CONTENT_ID', 'SRC_EXTERNAL_ID',\n",
      "       'OPPORTUNITY_NAME', 'FRANCHISE_NAME', 'GAME_NAME', 'CREATOR_NAME',\n",
      "       'CREATOR_USERNAME', 'CREATOR_CHANNEL_TYPE', 'CREATOR_CHANNEL_NAME',\n",
      "       'OPPORTUNITY_MANAGER_NAME', 'CONTENT_TITLE', 'CONTENT_URL',\n",
      "       'CONTENT_TYPE', 'CONTENT_REVIEW_STATUS', 'OPPORTUNITY_CREATED_DTTM_GMT',\n",
      "       'REGISTRATION_START_DTTM_GMT', 'REGISTRATION_END_DTTM_GMT',\n",
      "       'EVENT_START_DTTM_GMT', 'EVENT_END_DTTM_GMT',\n",
      "       'CONTENT_SUBMISSION_START_DTTM_GMT', 'CONTENT_SUBMISSION_END_DTTM_GMT',\n",
      "       'CONTENT_UPLOAD_DTTM_GMT', 'CONTENT_SUBMISSION_DTTM_GMT',\n",
      "       'METRICS_CAPTURED_DTTM_GMT', 'SUBMISSION_LIMIT', 'COUNT_VIEWS',\n",
      "       'COUNT_LIKES', 'COUNT_DISLIKES', 'COUNT_COMMENTS', 'COUNT_SHARES',\n",
      "       'ESTIMATED_MINUTES_WATCHED', 'AVERAGE_VIEW_DURATION',\n",
      "       'AVERAGE_VIEW_PERCENTAGE', 'SUBSCRIBERS_GAINED', 'PEAK_CONCURRENT_VIEW',\n",
      "       'ENGAGEMENT', 'TOTAL_REACH', 'CREATOR_JOINED_DTTM_GMT',\n",
      "       'CONTENT_RATING', 'CURRENT_FLAG', 'OPPORTUNITY_END_DTTM_GMT',\n",
      "       'ROW_CREATED_BY', 'ROW_CREATED_DTTM_GMT', 'ROW_MODIFIED_BY',\n",
      "       'ROW_MODIFIED_DTTM_GMT', 'CREATOR_CATEGORY', 'APPLICANT_STATUS',\n",
      "       'APPLICANT_APPROVED_BY', 'APPLICANT_APPROVED_DTTM_GMT',\n",
      "       'IS_PHYSICAL_CONTENT', 'SOURCE_TYPE', 'OPPORTUNITY_TYPE'],\n",
      "      dtype='object')\n",
      "[[514918358 'ad13cf8c-2071-48f1-818b-2bd6f7f20061' 'a0M4x00000ZribuEAB'\n",
      "  ... nan nan 'Marketing_Opportunity']\n",
      " [514918362 '61e7bb1e-28ed-42cc-8f43-9398010c09f3' 'a0M4x00000Zre6GEAR'\n",
      "  ... 0.0 'SOCIAL' 'Marketing_Opportunity']\n",
      " [514918363 '3a9d96db-5466-4493-96f7-0f5c07029a8f' 'a0M4x00000bM8NQEA0'\n",
      "  ... 0.0 'SOCIAL' 'Marketing_Opportunity']\n",
      " ...\n",
      " [45531162 '44b9d1f9-ba95-48fa-a7b2-eb9d69221e96' 'a0M4x000001WY0VEAW'\n",
      "  ... 0.0 'SOCIAL' 'Marketing_Opportunity']\n",
      " [45457549 '0109a0ec-d6aa-4c3a-b31d-7eb5ee564647' 'a0M4x000001WY0CEAW'\n",
      "  ... 0.0 'SOCIAL' 'Marketing_Opportunity']\n",
      " [45457648 '3f21528a-7a59-4429-8727-57d8e2e3f003' 'a0M4x000001WY0CEAW'\n",
      "  ... 0.0 'SOCIAL' 'Marketing_Opportunity']]\n"
     ]
    }
   ],
   "source": [
    "print(df.index)\n",
    "print(df.columns)\n",
    "print(df.values)"
   ]
  },
  {
   "cell_type": "code",
   "execution_count": 42,
   "id": "84529df4",
   "metadata": {},
   "outputs": [
    {
     "name": "stdout",
     "output_type": "stream",
     "text": [
      "0       2024-01-24 02:08:49.006\n",
      "1       2024-01-24 02:08:49.006\n",
      "2       2024-01-24 02:08:49.006\n",
      "3       2024-01-24 02:08:49.006\n",
      "4       2024-01-24 02:08:49.006\n",
      "                  ...          \n",
      "21365   2021-09-30 14:08:15.084\n",
      "21366   2021-09-30 14:08:15.084\n",
      "21367   2022-02-24 14:09:13.986\n",
      "21368   2022-02-24 14:09:13.986\n",
      "21369   2022-02-24 14:09:13.986\n",
      "Name: ROW_MODIFIED_DTTM_GMT, Length: 21370, dtype: datetime64[ns]\n"
     ]
    }
   ],
   "source": [
    "# print(df['ROW_MODIFIED_DTTM_GMT'])\n",
    "df['ROW_MODIFIED_DTTM_GMT']=pd.to_datetime(df['ROW_MODIFIED_DTTM_GMT'])\n",
    "print(df['ROW_MODIFIED_DTTM_GMT'])"
   ]
  },
  {
   "cell_type": "code",
   "execution_count": 62,
   "id": "b3759af2",
   "metadata": {},
   "outputs": [
    {
     "name": "stdout",
     "output_type": "stream",
     "text": [
      "0       2024-01-24 02:08:49.006\n",
      "1       2024-01-24 02:08:49.006\n",
      "2       2024-01-24 02:08:49.006\n",
      "3       2024-01-24 02:08:49.006\n",
      "4       2024-01-24 02:08:49.006\n",
      "                  ...          \n",
      "21365   2021-09-30 14:08:15.084\n",
      "21366   2021-09-30 14:08:15.084\n",
      "21367   2022-02-24 14:09:13.986\n",
      "21368   2022-02-24 14:09:13.986\n",
      "21369   2022-02-24 14:09:13.986\n",
      "Name: ROW_MODIFIED_DTTM_GMT, Length: 21370, dtype: datetime64[ns]\n"
     ]
    }
   ],
   "source": [
    "df['ROW_MODIFIED_DTTM_GMT']=df['ROW_MODIFIED_DTTM_GMT'].astype('datetime64[ns]')\n",
    "print(df['ROW_MODIFIED_DTTM_GMT'])"
   ]
  },
  {
   "cell_type": "code",
   "execution_count": 64,
   "id": "efee7707",
   "metadata": {},
   "outputs": [],
   "source": [
    "df2 = df.select_dtypes('number')"
   ]
  },
  {
   "cell_type": "code",
   "execution_count": 66,
   "id": "7ee944df",
   "metadata": {},
   "outputs": [
    {
     "data": {
      "text/html": [
       "<div>\n",
       "<style scoped>\n",
       "    .dataframe tbody tr th:only-of-type {\n",
       "        vertical-align: middle;\n",
       "    }\n",
       "\n",
       "    .dataframe tbody tr th {\n",
       "        vertical-align: top;\n",
       "    }\n",
       "\n",
       "    .dataframe thead th {\n",
       "        text-align: right;\n",
       "    }\n",
       "</style>\n",
       "<table border=\"1\" class=\"dataframe\">\n",
       "  <thead>\n",
       "    <tr style=\"text-align: right;\">\n",
       "      <th></th>\n",
       "      <th>SFDC_OPPORTUNITY_CONTENT_SUBMISSION_METRICS_ID</th>\n",
       "      <th>SUBMISSION_LIMIT</th>\n",
       "      <th>COUNT_VIEWS</th>\n",
       "      <th>COUNT_LIKES</th>\n",
       "      <th>COUNT_DISLIKES</th>\n",
       "      <th>COUNT_COMMENTS</th>\n",
       "      <th>COUNT_SHARES</th>\n",
       "      <th>ESTIMATED_MINUTES_WATCHED</th>\n",
       "      <th>AVERAGE_VIEW_DURATION</th>\n",
       "      <th>AVERAGE_VIEW_PERCENTAGE</th>\n",
       "      <th>SUBSCRIBERS_GAINED</th>\n",
       "      <th>PEAK_CONCURRENT_VIEW</th>\n",
       "      <th>ENGAGEMENT</th>\n",
       "      <th>TOTAL_REACH</th>\n",
       "      <th>CONTENT_RATING</th>\n",
       "      <th>APPLICANT_STATUS</th>\n",
       "      <th>APPLICANT_APPROVED_BY</th>\n",
       "      <th>APPLICANT_APPROVED_DTTM_GMT</th>\n",
       "      <th>IS_PHYSICAL_CONTENT</th>\n",
       "    </tr>\n",
       "  </thead>\n",
       "  <tbody>\n",
       "    <tr>\n",
       "      <th>0</th>\n",
       "      <td>514918358</td>\n",
       "      <td>NaN</td>\n",
       "      <td>35.0</td>\n",
       "      <td>5.0</td>\n",
       "      <td>0.0</td>\n",
       "      <td>2.0</td>\n",
       "      <td>1.0</td>\n",
       "      <td>132.0</td>\n",
       "      <td>362.0</td>\n",
       "      <td>60.0</td>\n",
       "      <td>0.0</td>\n",
       "      <td>NaN</td>\n",
       "      <td>8.0</td>\n",
       "      <td>NaN</td>\n",
       "      <td>NaN</td>\n",
       "      <td>NaN</td>\n",
       "      <td>NaN</td>\n",
       "      <td>NaN</td>\n",
       "      <td>NaN</td>\n",
       "    </tr>\n",
       "    <tr>\n",
       "      <th>1</th>\n",
       "      <td>514918362</td>\n",
       "      <td>NaN</td>\n",
       "      <td>6312.0</td>\n",
       "      <td>267.0</td>\n",
       "      <td>0.0</td>\n",
       "      <td>7.0</td>\n",
       "      <td>0.0</td>\n",
       "      <td>147.0</td>\n",
       "      <td>18.0</td>\n",
       "      <td>100.0</td>\n",
       "      <td>2.0</td>\n",
       "      <td>NaN</td>\n",
       "      <td>274.0</td>\n",
       "      <td>NaN</td>\n",
       "      <td>NaN</td>\n",
       "      <td>NaN</td>\n",
       "      <td>NaN</td>\n",
       "      <td>NaN</td>\n",
       "      <td>0.0</td>\n",
       "    </tr>\n",
       "    <tr>\n",
       "      <th>2</th>\n",
       "      <td>514918363</td>\n",
       "      <td>NaN</td>\n",
       "      <td>2317.0</td>\n",
       "      <td>151.0</td>\n",
       "      <td>0.0</td>\n",
       "      <td>4.0</td>\n",
       "      <td>1.0</td>\n",
       "      <td>697.0</td>\n",
       "      <td>18.0</td>\n",
       "      <td>36.0</td>\n",
       "      <td>1.0</td>\n",
       "      <td>NaN</td>\n",
       "      <td>156.0</td>\n",
       "      <td>NaN</td>\n",
       "      <td>NaN</td>\n",
       "      <td>NaN</td>\n",
       "      <td>NaN</td>\n",
       "      <td>NaN</td>\n",
       "      <td>0.0</td>\n",
       "    </tr>\n",
       "    <tr>\n",
       "      <th>3</th>\n",
       "      <td>514918369</td>\n",
       "      <td>NaN</td>\n",
       "      <td>283.0</td>\n",
       "      <td>0.0</td>\n",
       "      <td>0.0</td>\n",
       "      <td>0.0</td>\n",
       "      <td>0.0</td>\n",
       "      <td>81.0</td>\n",
       "      <td>17.0</td>\n",
       "      <td>59.0</td>\n",
       "      <td>0.0</td>\n",
       "      <td>NaN</td>\n",
       "      <td>0.0</td>\n",
       "      <td>NaN</td>\n",
       "      <td>NaN</td>\n",
       "      <td>NaN</td>\n",
       "      <td>NaN</td>\n",
       "      <td>NaN</td>\n",
       "      <td>0.0</td>\n",
       "    </tr>\n",
       "    <tr>\n",
       "      <th>4</th>\n",
       "      <td>514918373</td>\n",
       "      <td>NaN</td>\n",
       "      <td>2038.0</td>\n",
       "      <td>199.0</td>\n",
       "      <td>0.0</td>\n",
       "      <td>47.0</td>\n",
       "      <td>7.0</td>\n",
       "      <td>8321.0</td>\n",
       "      <td>354.0</td>\n",
       "      <td>58.0</td>\n",
       "      <td>0.0</td>\n",
       "      <td>NaN</td>\n",
       "      <td>253.0</td>\n",
       "      <td>NaN</td>\n",
       "      <td>NaN</td>\n",
       "      <td>NaN</td>\n",
       "      <td>NaN</td>\n",
       "      <td>NaN</td>\n",
       "      <td>NaN</td>\n",
       "    </tr>\n",
       "  </tbody>\n",
       "</table>\n",
       "</div>"
      ],
      "text/plain": [
       "   SFDC_OPPORTUNITY_CONTENT_SUBMISSION_METRICS_ID  SUBMISSION_LIMIT  \\\n",
       "0                                       514918358               NaN   \n",
       "1                                       514918362               NaN   \n",
       "2                                       514918363               NaN   \n",
       "3                                       514918369               NaN   \n",
       "4                                       514918373               NaN   \n",
       "\n",
       "   COUNT_VIEWS  COUNT_LIKES  COUNT_DISLIKES  COUNT_COMMENTS  COUNT_SHARES  \\\n",
       "0         35.0          5.0             0.0             2.0           1.0   \n",
       "1       6312.0        267.0             0.0             7.0           0.0   \n",
       "2       2317.0        151.0             0.0             4.0           1.0   \n",
       "3        283.0          0.0             0.0             0.0           0.0   \n",
       "4       2038.0        199.0             0.0            47.0           7.0   \n",
       "\n",
       "   ESTIMATED_MINUTES_WATCHED  AVERAGE_VIEW_DURATION  AVERAGE_VIEW_PERCENTAGE  \\\n",
       "0                      132.0                  362.0                     60.0   \n",
       "1                      147.0                   18.0                    100.0   \n",
       "2                      697.0                   18.0                     36.0   \n",
       "3                       81.0                   17.0                     59.0   \n",
       "4                     8321.0                  354.0                     58.0   \n",
       "\n",
       "   SUBSCRIBERS_GAINED  PEAK_CONCURRENT_VIEW  ENGAGEMENT  TOTAL_REACH  \\\n",
       "0                 0.0                   NaN         8.0          NaN   \n",
       "1                 2.0                   NaN       274.0          NaN   \n",
       "2                 1.0                   NaN       156.0          NaN   \n",
       "3                 0.0                   NaN         0.0          NaN   \n",
       "4                 0.0                   NaN       253.0          NaN   \n",
       "\n",
       "   CONTENT_RATING  APPLICANT_STATUS  APPLICANT_APPROVED_BY  \\\n",
       "0             NaN               NaN                    NaN   \n",
       "1             NaN               NaN                    NaN   \n",
       "2             NaN               NaN                    NaN   \n",
       "3             NaN               NaN                    NaN   \n",
       "4             NaN               NaN                    NaN   \n",
       "\n",
       "   APPLICANT_APPROVED_DTTM_GMT  IS_PHYSICAL_CONTENT  \n",
       "0                          NaN                  NaN  \n",
       "1                          NaN                  0.0  \n",
       "2                          NaN                  0.0  \n",
       "3                          NaN                  0.0  \n",
       "4                          NaN                  NaN  "
      ]
     },
     "execution_count": 66,
     "metadata": {},
     "output_type": "execute_result"
    }
   ],
   "source": [
    "df2.head()"
   ]
  },
  {
   "cell_type": "code",
   "execution_count": 78,
   "id": "c2a19d5d",
   "metadata": {},
   "outputs": [
    {
     "name": "stdout",
     "output_type": "stream",
     "text": [
      "0           5.0\n",
      "1         267.0\n",
      "2         151.0\n",
      "3           0.0\n",
      "4         199.0\n",
      "          ...  \n",
      "21365    2186.0\n",
      "21366    1337.0\n",
      "21367      78.0\n",
      "21368    2143.0\n",
      "21369    3749.0\n",
      "Name: Total_Impressions, Length: 21370, dtype: float64\n"
     ]
    }
   ],
   "source": [
    "df3 = df2.assign(Total_Impressions=df2['COUNT_LIKES']+df2['COUNT_DISLIKES'])\n",
    "print(df3['Total_Impressions'])"
   ]
  },
  {
   "cell_type": "code",
   "execution_count": null,
   "id": "7d44c75e",
   "metadata": {},
   "outputs": [],
   "source": []
  }
 ],
 "metadata": {
  "kernelspec": {
   "display_name": "Python 3",
   "language": "python",
   "name": "python3"
  },
  "language_info": {
   "codemirror_mode": {
    "name": "ipython",
    "version": 3
   },
   "file_extension": ".py",
   "mimetype": "text/x-python",
   "name": "python",
   "nbconvert_exporter": "python",
   "pygments_lexer": "ipython3",
   "version": "3.9.18"
  }
 },
 "nbformat": 4,
 "nbformat_minor": 5
}
